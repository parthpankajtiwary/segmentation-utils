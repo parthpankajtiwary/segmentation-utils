{
 "cells": [
  {
   "cell_type": "code",
   "execution_count": 3,
   "id": "8a0c2f1f-6c10-4bc6-8104-ee21e7135295",
   "metadata": {},
   "outputs": [],
   "source": [
    "from color_utils import ColorUtils"
   ]
  },
  {
   "cell_type": "code",
   "execution_count": 4,
   "id": "0ae82330-f35f-4930-8a71-2af19da64901",
   "metadata": {},
   "outputs": [],
   "source": [
    "color_utils = ColorUtils()"
   ]
  },
  {
   "cell_type": "code",
   "execution_count": 7,
   "id": "54958fef-40c1-412b-846f-94ae9b9bc2e6",
   "metadata": {},
   "outputs": [],
   "source": [
    "hex_colors = color_utils.create_n_hex_colors(10)"
   ]
  },
  {
   "cell_type": "code",
   "execution_count": 8,
   "id": "481c569c-5aaa-4499-b5f4-340d71dc26fa",
   "metadata": {},
   "outputs": [
    {
     "data": {
      "text/plain": [
       "['#B44D17',\n",
       " '#3F7977',\n",
       " '#49655D',\n",
       " '#009BB7',\n",
       " '#34BDA9',\n",
       " '#0809FD',\n",
       " '#8643F1',\n",
       " '#154849',\n",
       " '#1C0ABD',\n",
       " '#25EF3E']"
      ]
     },
     "execution_count": 8,
     "metadata": {},
     "output_type": "execute_result"
    }
   ],
   "source": [
    "hex_colors"
   ]
  },
  {
   "cell_type": "code",
   "execution_count": 11,
   "id": "f72059ce-f19d-443b-ae28-8124288a7e03",
   "metadata": {},
   "outputs": [],
   "source": [
    "import matplotlib as mpl"
   ]
  },
  {
   "cell_type": "code",
   "execution_count": 12,
   "id": "f8ad5a8f-f9e3-4df4-b5a2-3ac646a54ecc",
   "metadata": {},
   "outputs": [],
   "source": [
    "cmap = [mpl.colors.ListedColormap(color) for color in hex_colors]"
   ]
  },
  {
   "cell_type": "code",
   "execution_count": 13,
   "id": "02dc39d5-024b-4c14-8012-2c25cab92b2a",
   "metadata": {},
   "outputs": [
    {
     "data": {
      "text/plain": [
       "[<matplotlib.colors.ListedColormap at 0x7f50e4290760>,\n",
       " <matplotlib.colors.ListedColormap at 0x7f50e4290670>,\n",
       " <matplotlib.colors.ListedColormap at 0x7f50e42909a0>,\n",
       " <matplotlib.colors.ListedColormap at 0x7f50e42909d0>,\n",
       " <matplotlib.colors.ListedColormap at 0x7f50e4290a00>,\n",
       " <matplotlib.colors.ListedColormap at 0x7f50e4290910>,\n",
       " <matplotlib.colors.ListedColormap at 0x7f50e4290940>,\n",
       " <matplotlib.colors.ListedColormap at 0x7f50e4290970>,\n",
       " <matplotlib.colors.ListedColormap at 0x7f50e4290b80>,\n",
       " <matplotlib.colors.ListedColormap at 0x7f50e4290b50>]"
      ]
     },
     "execution_count": 13,
     "metadata": {},
     "output_type": "execute_result"
    }
   ],
   "source": [
    "cmap"
   ]
  },
  {
   "cell_type": "code",
   "execution_count": null,
   "id": "d824d405-fea5-49b9-86a7-f6a0f93dc3a1",
   "metadata": {},
   "outputs": [],
   "source": []
  }
 ],
 "metadata": {
  "kernelspec": {
   "display_name": "Python 3",
   "language": "python",
   "name": "python3"
  },
  "language_info": {
   "codemirror_mode": {
    "name": "ipython",
    "version": 3
   },
   "file_extension": ".py",
   "mimetype": "text/x-python",
   "name": "python",
   "nbconvert_exporter": "python",
   "pygments_lexer": "ipython3",
   "version": "3.9.12"
  }
 },
 "nbformat": 4,
 "nbformat_minor": 5
}
